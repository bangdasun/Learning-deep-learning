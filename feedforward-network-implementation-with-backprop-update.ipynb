{
 "cells": [
  {
   "cell_type": "markdown",
   "metadata": {},
   "source": [
    "## An example of feedforward neural network implementation"
   ]
  },
  {
   "cell_type": "code",
   "execution_count": 1,
   "metadata": {
    "collapsed": true
   },
   "outputs": [],
   "source": [
    "import os\n",
    "os.chdir(\"C:\\\\Users\\\\Bangda\\\\Desktop\\\\Python Study Group\\\\Project 1\\\\neural-networks-and-deep-learning-master\\\\src\")"
   ]
  },
  {
   "cell_type": "code",
   "execution_count": 2,
   "metadata": {},
   "outputs": [],
   "source": [
    "\"\"\"\n",
    "network module\n",
    "\n",
    "An implementation of feedforward network using SGD. Gradients are calculated by backpropagation.\n",
    "This module is from Michael Nielsen, Neural Networks and Deep Learning (http://neuralnetworksanddeeplearning.com/chap1.html)\n",
    "Here is the inner structure of network.py\n",
    "\n",
    "I will change some parts of code a little bit when I think I have alternative understanding\n",
    "(I mean the code looks more clearly for me)\n",
    "\"\"\"\n",
    "\n",
    "import random\n",
    "import numpy as np\n",
    "\n",
    "# sigmoid function and its derivative\n",
    "def sigmoid(x):\n",
    "    return 1.0 / (1.0 + np.exp(-x))\n",
    "\n",
    "def sigmoid_prime(x):\n",
    "    return sigmoid(x) * (1 - sigmoid(x))\n",
    "\n",
    "\n",
    "class Network:\n",
    "    \n",
    "    def __init__(self, sizes):\n",
    "        \"\"\"\n",
    "        @param sizes, list\n",
    "          contains the number of neurons in the respective layers, \n",
    "          e.g. [2, 3, 1], 2 will be input size; 3 is size of hidden layer; 1 is output size\n",
    "        \n",
    "        weights and bias are initialized randomly using standard Normal distribution\n",
    "        \"\"\"\n",
    "        self.num_layers = len(sizes)\n",
    "        self.sizes = sizes\n",
    "        # no bias for input neuron\n",
    "        self.biases = [np.random.randn(num_neurons, 1) for num_neurons in sizes[1:]] \n",
    "        # weights between two layers forms into array with size m x n (m for prev layer)\n",
    "        # generate n - 1 arrays for n layers\n",
    "        self.weights = [np.random.randn(num_neurons_non_input, num_neurons_non_output)\n",
    "                       for num_neurons_non_output, num_neurons_non_input in \n",
    "                       zip(sizes[:-1], sizes[1:])] \n",
    "    \n",
    "    def feedforward(self, inputs):\n",
    "        \"\"\"\n",
    "        return the weighted average of input\n",
    "        \"\"\"\n",
    "        for bias, weights in zip(self.biases, self.weights):\n",
    "            # every inputs of layer is the output of previous layer except the input layer\n",
    "            inputs = sigmoid(np.dot(weights, inputs) + bias)\n",
    "        \n",
    "        outputs = inputs\n",
    "        return outputs\n",
    "    \n",
    "    def SGD(self, training, epochs, mini_batch_size, eta, testing = None):\n",
    "        \"\"\"\n",
    "        stochasic gradient descent implementation\n",
    "        \n",
    "        @param training, list\n",
    "          elements are tuples (X, y)\n",
    "        @param testing, format same as training\n",
    "          if provided, the network will evaluate on the test data after each epoch\n",
    "        \"\"\"\n",
    "        if testing:\n",
    "            n_test = len(testing)\n",
    "            \n",
    "        n = len(training)\n",
    "        for j in xrange(epochs):\n",
    "            random.shuffle(training) # shuffle inplace\n",
    "            \n",
    "            # get a batch of the training data\n",
    "            mini_batches = [training[k:k + mini_batch_size] for k in xrange(0, n, mini_batch_size)]\n",
    "            \n",
    "            # update \n",
    "            for mini_batch in mini_batches:\n",
    "                self.update_mini_batch(mini_batch, eta)\n",
    "                \n",
    "            if testing:\n",
    "                print('Epoch {0}: {1} / test size {2}'.format(j, self.evaluate(testing), n_test))\n",
    "            else:\n",
    "                print('Epoch {0} complete'.format(j))\n",
    "    \n",
    "    def update_mini_batch(self, mini_batch, eta):\n",
    "        \"\"\"\n",
    "        update weights and biases by applying gradient descent using backpropagation to a signle mini batch\n",
    "        \n",
    "        @param mini_batch, list\n",
    "          elements are tuples (X, y)\n",
    "        @param eta, numeric\n",
    "          learning rate\n",
    "        \"\"\"\n",
    "        # initialization\n",
    "        nabla_biases = [np.zeros(b.shape) for b in self.biases]\n",
    "        nabla_weights = [np.zeros(w.shape) for w in self.weights]\n",
    "        \n",
    "        for x, y in mini_batch:\n",
    "            delta_nabla_biases, delta_nabla_weights = self.backprop(x, y)\n",
    "            nabla_biases = [nb + dnb for nb, dnb in zip(nabla_biases, delta_nabla_biases)]\n",
    "            nabla_weights = [nw + dnw for nw, dnw in zip(nabla_weights, delta_nabla_weights)]\n",
    "        \n",
    "        self.weights = [w - (eta / len(mini_batch)) * nw for w, nw in zip(self.weights, nabla_weights)]\n",
    "        self.biases = [b - (eta / len(mini_batch)) * nb for b, nb in zip(self.biases, nabla_biases)]\n",
    "    \n",
    "        \n",
    "        \n",
    "    def backprop(self, x, y):\n",
    "        \"\"\"\n",
    "        backpropagation is actually not mentioned in chapter 1\n",
    "        \n",
    "        return a tuple (nabla_biases, nabla_weights), representing gradient of cost function\n",
    "        nabla_biases and nabla_weights are layer-by-layer list of numpy arrays\n",
    "        structures are similar to self.biases and self.weights\n",
    "        \"\"\"\n",
    "        nabla_biases = [np.zeros(b.shape) for b in self.biases]\n",
    "        nabla_weights = [np.zeros(w.shape) for w in self.weights]\n",
    "        \n",
    "        # feedforward\n",
    "        activation = x\n",
    "        activations = [x] # list to store all the activations layer by layer\n",
    "        zs = []  # list to store all the z vectors layer by layer\n",
    "        \n",
    "        for b, w in zip(self.biases, self.weights):\n",
    "            z = np.dot(w, activation) + b\n",
    "            zs.append(z)\n",
    "            activation = sigmoid(z)\n",
    "            activations.append(activation)\n",
    "        \n",
    "        # backward pass\n",
    "        delta = self.cost_derivative(activations[-1], y) * sigmoid_prime(zs[-1])\n",
    "        nabla_biases[-1] = delta\n",
    "        nabla_weights[-1] = np.dot(delta, activations[-2].transpose())\n",
    "        \n",
    "        for layer in xrange(2, self.num_layers):\n",
    "            z = zs[-layer]\n",
    "            sp = sigmoid_prime(z)\n",
    "            delta = np.dot(self.weights[-layer + 1].transpose(), delta) * sp\n",
    "            nabla_biases[-layer] = delta\n",
    "            nabla_weights[-layer] = np.dot(delta, activations[-layer - 1].transpose())\n",
    "\n",
    "        return (nabla_biases, nabla_weights)\n",
    "    \n",
    "    def evaluate(self, testing):\n",
    "        \"\"\"\n",
    "        return the number of test inputs for which the outputs the correct result\n",
    "        where the output is the index of which neuron in the output layer has the highest value\n",
    "        \"\"\"\n",
    "        pred_test = [(np.argmax(self.feedforward(x)), y) for (x, y) in testing]\n",
    "        return sum(int(x == y) for (x, y) in pred_test)\n",
    "    \n",
    "    def cost_derivative(self, output_activations, y):\n",
    "        return(output_activations - y)"
   ]
  },
  {
   "cell_type": "code",
   "execution_count": 3,
   "metadata": {},
   "outputs": [
    {
     "data": {
      "text/plain": [
       "(50000, 10000, 10000)"
      ]
     },
     "execution_count": 3,
     "metadata": {},
     "output_type": "execute_result"
    }
   ],
   "source": [
    "import mnist_loader\n",
    "training, validation, testing = mnist_loader.load_data_wrapper()\n",
    "len(training), len(validation), len(testing)"
   ]
  },
  {
   "cell_type": "code",
   "execution_count": 4,
   "metadata": {
    "collapsed": true
   },
   "outputs": [],
   "source": [
    "naive_network = Network([784, 30, 10])"
   ]
  },
  {
   "cell_type": "code",
   "execution_count": 5,
   "metadata": {},
   "outputs": [
    {
     "name": "stdout",
     "output_type": "stream",
     "text": [
      "Epoch 0: 7130 / test size 10000\n",
      "Epoch 1: 7283 / test size 10000\n",
      "Epoch 2: 7376 / test size 10000\n",
      "Epoch 3: 7383 / test size 10000\n",
      "Epoch 4: 7447 / test size 10000\n",
      "Epoch 5: 7460 / test size 10000\n",
      "Epoch 6: 8537 / test size 10000\n",
      "Epoch 7: 8577 / test size 10000\n",
      "Epoch 8: 8581 / test size 10000\n",
      "Epoch 9: 8604 / test size 10000\n",
      "Epoch 10: 8605 / test size 10000\n",
      "Epoch 11: 8598 / test size 10000\n",
      "Epoch 12: 8629 / test size 10000\n",
      "Epoch 13: 8629 / test size 10000\n",
      "Epoch 14: 8618 / test size 10000\n",
      "Epoch 15: 8633 / test size 10000\n",
      "Epoch 16: 8615 / test size 10000\n",
      "Epoch 17: 8639 / test size 10000\n",
      "Epoch 18: 8635 / test size 10000\n",
      "Epoch 19: 8613 / test size 10000\n",
      "Epoch 20: 8626 / test size 10000\n",
      "Epoch 21: 8639 / test size 10000\n",
      "Epoch 22: 8627 / test size 10000\n",
      "Epoch 23: 8624 / test size 10000\n",
      "Epoch 24: 8609 / test size 10000\n",
      "Epoch 25: 8615 / test size 10000\n",
      "Epoch 26: 8633 / test size 10000\n",
      "Epoch 27: 8636 / test size 10000\n",
      "Epoch 28: 8632 / test size 10000\n",
      "Epoch 29: 8640 / test size 10000\n"
     ]
    }
   ],
   "source": [
    "naive_network.SGD(training, epochs = 30, mini_batch_size = 10, eta = 3.0, testing = testing)"
   ]
  },
  {
   "cell_type": "code",
   "execution_count": 6,
   "metadata": {},
   "outputs": [
    {
     "data": {
      "image/png": "[encoded data removed]",
      "text/plain": [
       "<matplotlib.figure.Figure at 0x5d88208>"
      ]
     },
     "metadata": {},
     "output_type": "display_data"
    }
   ],
   "source": [
    "import matplotlib.pyplot as plt\n",
    "X_test, y_test = testing[0][0], testing[0][1]\n",
    "img_test = np.reshape(X_test, (28, 28))\n",
    "plt.imshow(img_test)\n",
    "plt.show()"
   ]
  },
  {
   "cell_type": "code",
   "execution_count": 7,
   "metadata": {},
   "outputs": [
    {
     "name": "stdout",
     "output_type": "stream",
     "text": [
      "Actual digit is 7\n",
      "Predicted digit is 7\n"
     ]
    }
   ],
   "source": [
    "print('Actual digit is {}'.format(y_test))\n",
    "print('Predicted digit is {}'.format(np.argmax(naive_network.feedforward(X_test))))"
   ]
  }
 ],
 "metadata": {
  "kernelspec": {
   "display_name": "Python [default]",
   "language": "python",
   "name": "python2"
  },
  "language_info": {
   "codemirror_mode": {
    "name": "ipython",
    "version": 2
   },
   "file_extension": ".py",
   "mimetype": "text/x-python",
   "name": "python",
   "nbconvert_exporter": "python",
   "pygments_lexer": "ipython2",
   "version": "2.7.12"
  }
 },
 "nbformat": 4,
 "nbformat_minor": 2
}
