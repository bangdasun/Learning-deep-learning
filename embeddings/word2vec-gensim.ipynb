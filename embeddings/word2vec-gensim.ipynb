{
 "cells": [
  {
   "cell_type": "markdown",
   "metadata": {
    "_cell_guid": "b1076dfc-b9ad-4769-8c92-a6c4dae69d19",
    "_uuid": "8f2839f25d086af736a60e9eeb907d3b93b6e0e5"
   },
   "source": [
    "## Training Word2Vec for Domain Specific Text\n",
    "\n",
    "Using `gensim.model.Word2Vec` (skip-gram model) to get customized word embeddings given specific text."
   ]
  },
  {
   "cell_type": "code",
   "execution_count": 1,
   "metadata": {},
   "outputs": [],
   "source": [
    "import os\n",
    "import gc\n",
    "import re\n",
    "import nltk\n",
    "import string\n",
    "import warnings\n",
    "import editdistance\n",
    "import numpy as np\n",
    "import pandas as pd\n",
    "import matplotlib.pyplot as plt\n",
    "\n",
    "from tqdm import tqdm\n",
    "from gensim.test.utils import get_tmpfile, datapath\n",
    "from gensim.models import Word2Vec\n",
    "from gensim.models.callbacks import CallbackAny2Vec\n",
    "from sklearn.manifold import TSNE\n",
    "\n",
    "warnings.filterwarnings('ignore')\n",
    "%matplotlib inline"
   ]
  },
  {
   "cell_type": "code",
   "execution_count": 2,
   "metadata": {
    "_cell_guid": "79c7e3d0-c299-4dcb-8224-4455121ee9b0",
    "_uuid": "d629ff2d2480ee46fbb7e2d37f6b5fab8052498a"
   },
   "outputs": [],
   "source": [
    "def get_punctuation_list(exclude_puncts=None, include_puncts=None):\n",
    "    \"\"\" Get a customized punctuation list \"\"\"\n",
    "    if not exclude_puncts:\n",
    "        exclude_puncts = []\n",
    "    if not include_puncts:\n",
    "        include_puncts = []\n",
    "    puncts = [p for p in string.punctuation if p not in exclude_puncts]\n",
    "    puncts.extend([p for p in include_puncts])\n",
    "    return list(set(puncts))\n",
    "\n",
    "def separate_punctuation(x, puncts):\n",
    "    \"\"\" Add spaces around punctuations \"\"\"\n",
    "    for s in puncts:\n",
    "        x = x.replace(s, f' {s} ')\n",
    "    return x\n",
    "\n",
    "def strip_space(x):\n",
    "    \"\"\" Remove extra space around words \"\"\"\n",
    "    return ' '.join([s.strip() for s in x.split()])\n",
    "\n",
    "def clean_text(x):\n",
    "    x = str(x).lower()\n",
    "    x = x.replace('\\n', '').replace('\\t', '')\n",
    "    x = separate_punctuation(x, puncts)\n",
    "    x = strip_space(x)\n",
    "    return x\n",
    "\n",
    "class LossEvaluation(CallbackAny2Vec):\n",
    "    \"\"\" Callback for logging training loss \"\"\"\n",
    "    def __init__(self):\n",
    "        self.epoch = 0\n",
    "        self.loss_prev_step = 0\n",
    "    \n",
    "    def on_epoch_end(self, model):\n",
    "        loss = model.get_latest_training_loss()\n",
    "        if self.epoch == 0:\n",
    "            print(f'Epoch {str(self.epoch + 1):>2s} loss = {loss}')\n",
    "        else:\n",
    "            print(f'Epoch {str(self.epoch + 1):>2s} loss = {loss - self.loss_prev_step}')\n",
    "        self.epoch += 1\n",
    "        self.loss_prev_step = loss"
   ]
  },
  {
   "cell_type": "code",
   "execution_count": 3,
   "metadata": {},
   "outputs": [
    {
     "name": "stdout",
     "output_type": "stream",
     "text": [
      "Training data size = (404290, 6)\n",
      "Test data size = (3563475, 3)\n"
     ]
    }
   ],
   "source": [
    "data_path = '../input/quora-question-pairs'\n",
    "train = pd.read_csv(os.path.join(data_path, 'train.csv.zip'))\n",
    "test = pd.read_csv(os.path.join(data_path, 'test.csv.zip'))\n",
    "embedding_size = 100\n",
    "\n",
    "print(f'Training data size = {train.shape}')\n",
    "print(f'Test data size = {test.shape}')"
   ]
  },
  {
   "cell_type": "code",
   "execution_count": 4,
   "metadata": {},
   "outputs": [
    {
     "name": "stdout",
     "output_type": "stream",
     "text": [
      "Number of questions = 7935530\n"
     ]
    }
   ],
   "source": [
    "train[['question1', 'question2']].fillna('', inplace=True)\n",
    "test[['question1', 'question2']].fillna('', inplace=True)\n",
    "\n",
    "puncts = get_punctuation_list(exclude_puncts=['$', '-', '_'])\n",
    "question_text = train['question1'].tolist() + train['question2'].tolist() +\\\n",
    "                test['question1'].tolist() + test['question2'].tolist()\n",
    "del train, test\n",
    "gc.collect()\n",
    "\n",
    "question_text_processed_split = [clean_text(q).split() for q in question_text]\n",
    "\n",
    "print(f'Number of questions = {len(question_text_processed_split)}')"
   ]
  },
  {
   "cell_type": "code",
   "execution_count": 5,
   "metadata": {},
   "outputs": [
    {
     "name": "stdout",
     "output_type": "stream",
     "text": [
      "Epoch  1 loss = 68664608.0\n",
      "Epoch  2 loss = 6270016.0\n",
      "Epoch  3 loss = 6513784.0\n",
      "Epoch  4 loss = 6586728.0\n",
      "Epoch  5 loss = 6545976.0\n",
      "Epoch  6 loss = 6518232.0\n",
      "Epoch  7 loss = 6475904.0\n",
      "Epoch  8 loss = 6428136.0\n",
      "Epoch  9 loss = 6361736.0\n",
      "Epoch 10 loss = 6295912.0\n",
      "Epoch 11 loss = 6263880.0\n",
      "Epoch 12 loss = 1292816.0\n",
      "Epoch 13 loss = 0.0\n",
      "Epoch 14 loss = 0.0\n",
      "Epoch 15 loss = 0.0\n",
      "Epoch 16 loss = 0.0\n",
      "Epoch 17 loss = 0.0\n",
      "Epoch 18 loss = 0.0\n",
      "Epoch 19 loss = 0.0\n",
      "Epoch 20 loss = 0.0\n",
      "CPU times: user 3h 52min 43s, sys: 36.8 s, total: 3h 53min 19s\n",
      "Wall time: 1h 4min 47s\n"
     ]
    }
   ],
   "source": [
    "%%time\n",
    "path = get_tmpfile('word2vec.model')\n",
    "training_params = dict(size=embedding_size,\n",
    "                       window=5,\n",
    "                       min_count=5,\n",
    "                       iter=20,\n",
    "                       sg=1,\n",
    "                       workers=4,\n",
    "                       compute_loss=True,\n",
    "                       callbacks=[LossEvaluation()])\n",
    "model = Word2Vec(question_text_processed_split, **training_params)\n",
    "model.save('word2vec.model')"
   ]
  },
  {
   "cell_type": "code",
   "execution_count": 6,
   "metadata": {},
   "outputs": [
    {
     "name": "stdout",
     "output_type": "stream",
     "text": [
      "Number of vocabulary 105427\n"
     ]
    }
   ],
   "source": [
    "vocab = sorted(list(model.wv.vocab.keys()))\n",
    "model.wv.save_word2vec_format(f'quora_questions_w2v_{embedding_size}d.txt')\n",
    "print(f'Number of vocabulary {len(vocab)}')"
   ]
  },
  {
   "cell_type": "code",
   "execution_count": 7,
   "metadata": {},
   "outputs": [
    {
     "name": "stdout",
     "output_type": "stream",
     "text": [
      "section 0: capital-common-countries    correct/incorrect = 0/0\n",
      "section 1: capital-world               correct/incorrect = 0/0\n",
      "section 2: currency                    correct/incorrect = 0/0\n",
      "section 3: city-in-state               correct/incorrect = 0/0\n",
      "section 4: family                      correct/incorrect = 156/150\n",
      "section 5: gram1-adjective-to-adverb   correct/incorrect = 13/587\n",
      "section 6: gram2-opposite              correct/incorrect = 25/355\n",
      "section 7: gram3-comparative           correct/incorrect = 336/996\n",
      "section 8: gram4-superlative           correct/incorrect = 265/665\n",
      "section 9: gram5-present-participle    correct/incorrect = 249/681\n",
      "section 10: gram6-nationality-adjective correct/incorrect = 0/0\n",
      "section 11: gram7-past-tense            correct/incorrect = 108/1082\n",
      "section 12: gram8-plural                correct/incorrect = 329/861\n",
      "section 13: gram9-plural-verbs          correct/incorrect = 109/443\n",
      "section 14: total                       correct/incorrect = 1590/5820\n"
     ]
    }
   ],
   "source": [
    "word_vectors = model.wv\n",
    "accuracy_evaluation = word_vectors.accuracy(\n",
    "    '../input/questionswords/questions-words.txt',\n",
    "    case_insensitive=False)\n",
    "\n",
    "for idx, result in enumerate(accuracy_evaluation):\n",
    "    section = result['section']\n",
    "    correct_num = len(result['correct'])\n",
    "    incorrect_num = len(result['incorrect'])\n",
    "    print(f'section {idx}: {section:27s} correct/incorrect = {correct_num}/{incorrect_num}')"
   ]
  },
  {
   "cell_type": "code",
   "execution_count": 8,
   "metadata": {},
   "outputs": [
    {
     "name": "stdout",
     "output_type": "stream",
     "text": [
      "Number of family words = 36\n",
      "Shape of family words embedding matrix = (36, 100)\n"
     ]
    }
   ],
   "source": [
    "# A -> B is like C -> D\n",
    "accuracy_evaluation[4]['correct'][:5]\n",
    "\n",
    "family_words = []\n",
    "for pairs in accuracy_evaluation[4]['correct']:\n",
    "    family_words.extend(list(pairs))\n",
    "\n",
    "family_words = list(set(family_words))\n",
    "print(f'Number of family words = {len(family_words)}')\n",
    "family_words_embeddings = np.zeros((len(family_words), embedding_size))\n",
    "for idx, word in enumerate(family_words):\n",
    "    family_words_embeddings[idx, :] = word_vectors[word]\n",
    "print(f'Shape of family words embedding matrix = {family_words_embeddings.shape}')"
   ]
  },
  {
   "cell_type": "code",
   "execution_count": 9,
   "metadata": {},
   "outputs": [
    {
     "data": {
      "image/png": "[encoded data removed]",
      "text/plain": [
       "<Figure size 720x720 with 1 Axes>"
      ]
     },
     "metadata": {
      "needs_background": "light"
     },
     "output_type": "display_data"
    }
   ],
   "source": [
    "tsne = TSNE(n_components=2, perplexity=30, init=\"pca\", n_iter=5000, method=\"exact\")\n",
    "low_dim_embeddings = tsne.fit_transform(family_words_embeddings)\n",
    "\n",
    "plt.figure(figsize=(10, 10))  \n",
    "for idx, word in enumerate(family_words):\n",
    "    if word not in ['boy', 'girl',\n",
    "                    'brothers', 'sisters',\n",
    "                    'father', 'mother',\n",
    "                    'woman', 'man']:\n",
    "        continue\n",
    "    x, y = low_dim_embeddings[idx, :]\n",
    "    plt.scatter(x, y)\n",
    "    plt.annotate(word, xy=(x, y))\n",
    "plt.show()"
   ]
  },
  {
   "cell_type": "code",
   "execution_count": 10,
   "metadata": {},
   "outputs": [
    {
     "name": "stdout",
     "output_type": "stream",
     "text": [
      "Number of past-tense words = 60\n",
      "Shape of past-tense words embedding matrix = (60, 100)\n"
     ]
    }
   ],
   "source": [
    "# A -> B is like C -> D\n",
    "accuracy_evaluation[11]['correct'][:5]\n",
    "\n",
    "past_tense_words = []\n",
    "for pairs in accuracy_evaluation[11]['correct']:\n",
    "    past_tense_words.extend(list(pairs))\n",
    "\n",
    "past_tense_words = list(set(past_tense_words))\n",
    "print(f'Number of past-tense words = {len(past_tense_words)}')\n",
    "past_tense_words_embeddings = np.zeros((len(past_tense_words), embedding_size))\n",
    "for idx, word in enumerate(past_tense_words):\n",
    "    past_tense_words_embeddings[idx, :] = word_vectors[word]\n",
    "print(f'Shape of past-tense words embedding matrix = {past_tense_words_embeddings.shape}')"
   ]
  },
  {
   "cell_type": "code",
   "execution_count": 11,
   "metadata": {},
   "outputs": [
    {
     "data": {
      "image/png": "[encoded data removed]",
      "text/plain": [
       "<Figure size 720x720 with 1 Axes>"
      ]
     },
     "metadata": {
      "needs_background": "light"
     },
     "output_type": "display_data"
    }
   ],
   "source": [
    "tsne = TSNE(n_components=2, perplexity=30, init=\"pca\", n_iter=5000, method=\"exact\")\n",
    "low_dim_embeddings = tsne.fit_transform(past_tense_words_embeddings)\n",
    "\n",
    "plt.figure(figsize=(10, 10))  \n",
    "for idx, word in enumerate(past_tense_words):\n",
    "    if word not in ['decreasing', 'decreased',\n",
    "                    'increasing', 'increased',\n",
    "                    'taking', 'took',\n",
    "                    'going', 'went']:\n",
    "        continue\n",
    "    x, y = low_dim_embeddings[idx, :]\n",
    "    plt.scatter(x, y)\n",
    "    plt.annotate(word, xy=(x, y))\n",
    "plt.show()"
   ]
  },
  {
   "cell_type": "code",
   "execution_count": null,
   "metadata": {},
   "outputs": [],
   "source": []
  }
 ],
 "metadata": {
  "kernelspec": {
   "display_name": "Python 3",
   "language": "python",
   "name": "python3"
  },
  "language_info": {
   "codemirror_mode": {
    "name": "ipython",
    "version": 3
   },
   "file_extension": ".py",
   "mimetype": "text/x-python",
   "name": "python",
   "nbconvert_exporter": "python",
   "pygments_lexer": "ipython3",
   "version": "3.6.10"
  }
 },
 "nbformat": 4,
 "nbformat_minor": 4
}
