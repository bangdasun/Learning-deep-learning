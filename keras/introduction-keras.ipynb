{
 "cells": [
  {
   "cell_type": "markdown",
   "metadata": {},
   "source": [
    "## \"Toy\" tutorial of using keras to build simple nerual network\n",
    "\n",
    "Reference: https://campus.datacamp.com/courses/deep-learning-in-python/"
   ]
  },
  {
   "cell_type": "markdown",
   "metadata": {},
   "source": [
    "### General Procedure\n",
    "\n",
    "1. Specify network architecture: layer, activation functions;\n",
    "2. Compile network: optimizer, loss function;\n",
    "3. Fit network\n",
    "4. Prediction"
   ]
  },
  {
   "cell_type": "code",
   "execution_count": 1,
   "metadata": {},
   "outputs": [],
   "source": [
    "# load data first\n",
    "import os \n",
    "import numpy as np\n",
    "import pandas as pd\n",
    "import matplotlib.pyplot as plt\n",
    "import matplotlib as mpl\n",
    "%matplotlib inline\n",
    "os.chdir('c:\\\\users\\\\bangda\\\\desktop\\\\dl-datacamp')\n",
    "hourly_wages = pd.read_csv('hourly_wages.csv')\n",
    "mnist = pd.read_csv('mnist.csv')\n",
    "titanic_all_numeric = pd.read_csv('titanic_all_numeric.csv')"
   ]
  },
  {
   "cell_type": "code",
   "execution_count": 2,
   "metadata": {},
   "outputs": [],
   "source": [
    "X = hourly_wages.iloc[:, 1:].values\n",
    "y = hourly_wages.iloc[:, 0].values"
   ]
  },
  {
   "cell_type": "markdown",
   "metadata": {},
   "source": [
    "### Example 1 - Regression"
   ]
  },
  {
   "cell_type": "markdown",
   "metadata": {},
   "source": [
    "#### 1. Specify model\n",
    "\n",
    "* For regression problem, `activation = 'relu'` could be one choice;\n",
    "* For classification problem, `activation = 'softmax'` could be one choice;"
   ]
  },
  {
   "cell_type": "code",
   "execution_count": 3,
   "metadata": {},
   "outputs": [
    {
     "name": "stderr",
     "output_type": "stream",
     "text": [
      "Using Theano backend.\n"
     ]
    }
   ],
   "source": [
    "import keras\n",
    "from keras.layers import Dense # nodes by nodes\n",
    "from keras.models import Sequential # layers are arranged sequantially"
   ]
  },
  {
   "cell_type": "code",
   "execution_count": 4,
   "metadata": {
    "collapsed": true
   },
   "outputs": [],
   "source": [
    "model = Sequential()"
   ]
  },
  {
   "cell_type": "markdown",
   "metadata": {},
   "source": [
    "Add input layer with 50 nodes"
   ]
  },
  {
   "cell_type": "code",
   "execution_count": 5,
   "metadata": {
    "scrolled": false
   },
   "outputs": [],
   "source": [
    "model.add(Dense(50, activation = 'relu', input_shape = (X.shape[1], )))"
   ]
  },
  {
   "cell_type": "markdown",
   "metadata": {},
   "source": [
    "Add hidden layer (second layer)"
   ]
  },
  {
   "cell_type": "code",
   "execution_count": 6,
   "metadata": {
    "collapsed": true
   },
   "outputs": [],
   "source": [
    "model.add(Dense(32, activation = 'relu'))"
   ]
  },
  {
   "cell_type": "markdown",
   "metadata": {},
   "source": [
    "Output layer"
   ]
  },
  {
   "cell_type": "code",
   "execution_count": 7,
   "metadata": {
    "collapsed": true
   },
   "outputs": [],
   "source": [
    "model.add(Dense(1))"
   ]
  },
  {
   "cell_type": "markdown",
   "metadata": {},
   "source": [
    "#### 2. Compile the model\n",
    "\n",
    "* `optimizer = 'adam'` is a common choice, see alsp `'sgd'`\n",
    "* For regression problem, using `loss = mean_squared_error`"
   ]
  },
  {
   "cell_type": "code",
   "execution_count": 8,
   "metadata": {
    "collapsed": true
   },
   "outputs": [],
   "source": [
    "model.compile(optimizer = 'adam', loss = 'mean_squared_error')"
   ]
  },
  {
   "cell_type": "markdown",
   "metadata": {},
   "source": [
    "#### 3. Fit and Prediction\n",
    "\n",
    "In practice we usually just take subset of the data to calculate gradient, called one **batch**; different batch of data are used to calculate the next update. If all data is used, it will start over again (called one **epoch**) since the selection of batch is random."
   ]
  },
  {
   "cell_type": "code",
   "execution_count": 9,
   "metadata": {},
   "outputs": [
    {
     "name": "stdout",
     "output_type": "stream",
     "text": [
      "Epoch 1/10\n",
      "534/534 [==============================] - 0s - loss: 26.7534     \n",
      "Epoch 2/10\n",
      "534/534 [==============================] - 0s - loss: 22.0352     \n",
      "Epoch 3/10\n",
      "534/534 [==============================] - 0s - loss: 21.4564     \n",
      "Epoch 4/10\n",
      "534/534 [==============================] - 0s - loss: 21.1474     \n",
      "Epoch 5/10\n",
      "534/534 [==============================] - 0s - loss: 21.4855     \n",
      "Epoch 6/10\n",
      "534/534 [==============================] - 0s - loss: 20.6640     \n",
      "Epoch 7/10\n",
      "534/534 [==============================] - 0s - loss: 21.1199     \n",
      "Epoch 8/10\n",
      "534/534 [==============================] - 0s - loss: 20.7611     \n",
      "Epoch 9/10\n",
      "534/534 [==============================] - 0s - loss: 20.2715     \n",
      "Epoch 10/10\n",
      "534/534 [==============================] - 0s - loss: 20.5104     \n"
     ]
    }
   ],
   "source": [
    "model.fit(X, y)\n",
    "y_pred = model.predict(X)"
   ]
  },
  {
   "cell_type": "code",
   "execution_count": 10,
   "metadata": {},
   "outputs": [
    {
     "data": {
      "image/png": "[encoded data removed]",
      "text/plain": [
       "<matplotlib.figure.Figure at 0x1185b240>"
      ]
     },
     "metadata": {},
     "output_type": "display_data"
    }
   ],
   "source": [
    "mpl.rcParams['figure.figsize'] = (10, 6)\n",
    "plt.plot(y_pred, y, 'bo', alpha = .2)\n",
    "plt.xlabel('Actual')\n",
    "plt.ylabel('Prediction')\n",
    "plt.show()"
   ]
  },
  {
   "cell_type": "markdown",
   "metadata": {},
   "source": [
    "### Example 2 - Classification\n",
    "\n",
    "We need one convert step to convert the target variable, for example if it is a binary classification, use (0, 1) and (1, 0). Also use `activation = 'softmax'` in output layer; use `loss = 'categorical_crossentropy'`, and `metrics = ['accuracy']`"
   ]
  },
  {
   "cell_type": "code",
   "execution_count": 11,
   "metadata": {},
   "outputs": [],
   "source": [
    "X = titanic_all_numeric.iloc[:, 1:].values\n",
    "y = titanic_all_numeric.iloc[:, 0].values"
   ]
  },
  {
   "cell_type": "code",
   "execution_count": 12,
   "metadata": {
    "collapsed": true
   },
   "outputs": [],
   "source": [
    "from keras.utils import to_categorical\n",
    "y_actual = y.copy()\n",
    "y = to_categorical(y)"
   ]
  },
  {
   "cell_type": "markdown",
   "metadata": {},
   "source": [
    "#### 1. General Framework"
   ]
  },
  {
   "cell_type": "code",
   "execution_count": 13,
   "metadata": {},
   "outputs": [
    {
     "name": "stdout",
     "output_type": "stream",
     "text": [
      "Epoch 1/10\n",
      "891/891 [==============================] - 0s - loss: 1.9056 - acc: 0.6038     \n",
      "Epoch 2/10\n",
      "891/891 [==============================] - 0s - loss: 1.2187 - acc: 0.6521     \n",
      "Epoch 3/10\n",
      "891/891 [==============================] - 0s - loss: 0.8089 - acc: 0.6364     \n",
      "Epoch 4/10\n",
      "891/891 [==============================] - 0s - loss: 0.6931 - acc: 0.6734     \n",
      "Epoch 5/10\n",
      "891/891 [==============================] - 0s - loss: 0.6556 - acc: 0.6599     \n",
      "Epoch 6/10\n",
      "891/891 [==============================] - 0s - loss: 0.6129 - acc: 0.6790     \n",
      "Epoch 7/10\n",
      "891/891 [==============================] - 0s - loss: 0.6199 - acc: 0.6846     \n",
      "Epoch 8/10\n",
      "891/891 [==============================] - 0s - loss: 0.6039 - acc: 0.7071     \n",
      "Epoch 9/10\n",
      "891/891 [==============================] - 0s - loss: 0.5996 - acc: 0.7048     \n",
      "Epoch 10/10\n",
      "891/891 [==============================] - 0s - loss: 0.5999 - acc: 0.7003     \n"
     ]
    },
    {
     "data": {
      "text/plain": [
       "<keras.callbacks.History at 0x11931e48>"
      ]
     },
     "execution_count": 13,
     "metadata": {},
     "output_type": "execute_result"
    }
   ],
   "source": [
    "clf = Sequential()\n",
    "clf.add(Dense(32, activation = 'relu', input_shape = (X.shape[1], )))\n",
    "clf.add(Dense(2, activation = 'softmax')) # since it's binary classification\n",
    "clf.compile(optimizer = 'sgd', loss = 'categorical_crossentropy', metrics = ['accuracy'])\n",
    "clf.fit(X, y)"
   ]
  },
  {
   "cell_type": "code",
   "execution_count": 14,
   "metadata": {},
   "outputs": [],
   "source": [
    "y_pred = clf.predict(X)\n",
    "y_pred_prob_true = y_pred[:, 1]\n",
    "y_pred_binary = [1 if prob > .5 else 0 for prob in y_pred_prob_true]"
   ]
  },
  {
   "cell_type": "code",
   "execution_count": 15,
   "metadata": {},
   "outputs": [
    {
     "data": {
      "text/plain": [
       "array([[526,  23],\n",
       "       [258,  84]])"
      ]
     },
     "execution_count": 15,
     "metadata": {},
     "output_type": "execute_result"
    }
   ],
   "source": [
    "from sklearn.metrics import classification_report, confusion_matrix\n",
    "confusion_matrix(y_actual, y_pred_binary)"
   ]
  },
  {
   "cell_type": "code",
   "execution_count": 16,
   "metadata": {},
   "outputs": [
    {
     "name": "stdout",
     "output_type": "stream",
     "text": [
      "             precision    recall  f1-score   support\n",
      "\n",
      "          0       0.67      0.96      0.79       549\n",
      "          1       0.79      0.25      0.37       342\n",
      "\n",
      "avg / total       0.71      0.68      0.63       891\n",
      "\n"
     ]
    }
   ],
   "source": [
    "print(classification_report(y_actual, y_pred_binary))"
   ]
  },
  {
   "cell_type": "markdown",
   "metadata": {},
   "source": [
    "#### 2. Optimization and parameter tuning"
   ]
  },
  {
   "cell_type": "markdown",
   "metadata": {},
   "source": [
    "(1) changing optimization parameters\n",
    "\n",
    "* learning rate\n",
    "\n",
    "(2) early stopping\n",
    "\n",
    "* `from keras.callbacks import EarlyStopping`\n",
    "* `.fit(X, y, validation_split = 0.3, epochs = 30, callbacks = [EarlyStopping(patience = 2)])`\n",
    "\n",
    "(3) add more node in one layer (wider networks)\n",
    "\n",
    "(4) add more layers"
   ]
  }
 ],
 "metadata": {
  "kernelspec": {
   "display_name": "Python 3",
   "language": "python",
   "name": "python3"
  },
  "language_info": {
   "codemirror_mode": {
    "name": "ipython",
    "version": 3
   },
   "file_extension": ".py",
   "mimetype": "text/x-python",
   "name": "python",
   "nbconvert_exporter": "python",
   "pygments_lexer": "ipython3",
   "version": "3.6.3"
  }
 },
 "nbformat": 4,
 "nbformat_minor": 2
}
