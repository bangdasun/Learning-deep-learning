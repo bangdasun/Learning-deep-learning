{
 "cells": [
  {
   "cell_type": "markdown",
   "metadata": {},
   "source": [
    "### Illustration of how convolutional layer works"
   ]
  },
  {
   "cell_type": "markdown",
   "metadata": {},
   "source": [
    "Example from http://cs231n.github.io/convolutional-networks/, I strongly recommend to take a look at that GIF."
   ]
  },
  {
   "cell_type": "code",
   "execution_count": 1,
   "metadata": {
    "collapsed": true
   },
   "outputs": [],
   "source": [
    "import numpy as np"
   ]
  },
  {
   "cell_type": "code",
   "execution_count": 2,
   "metadata": {
    "collapsed": true
   },
   "outputs": [],
   "source": [
    "# input (e.g. image) with 5x5 and 3 channels\n",
    "X = np.zeros((5, 5, 3))\n",
    "\n",
    "X[:, :, 0] = np.array([\n",
    "    [1, 2, 1, 0, 0],\n",
    "    [0, 1, 1, 0, 1],\n",
    "    [2, 1, 2, 2, 0],\n",
    "    [0, 2, 1, 1, 1],\n",
    "    [2, 2, 2, 2, 1]\n",
    "])\n",
    "\n",
    "X[:, :, 1] = np.array([\n",
    "    [2, 1, 0, 2, 2],\n",
    "    [0, 2, 0, 0, 0],\n",
    "    [0, 2, 1, 2, 2],\n",
    "    [2, 2, 2, 1, 2],\n",
    "    [2, 1, 2, 2, 2]\n",
    "])\n",
    "\n",
    "X[:, :, 2] = np.array([\n",
    "    [0, 1, 1, 0, 2],\n",
    "    [0, 0, 2, 0, 2],\n",
    "    [0, 1, 1, 1, 2],\n",
    "    [2, 2, 0, 1, 0],\n",
    "    [0, 0, 0, 1, 2]\n",
    "])"
   ]
  },
  {
   "cell_type": "code",
   "execution_count": 3,
   "metadata": {
    "collapsed": true
   },
   "outputs": [],
   "source": [
    "w0 = np.zeros((3, 3, 3))\n",
    "\n",
    "w0[:, :, 0] = np.array([\n",
    "    [1, -1, -1],\n",
    "    [-1, 0, -1],\n",
    "    [-1, 1, -1]\n",
    "])\n",
    "\n",
    "w0[:, :, 1] = np.array([\n",
    "    [-1, 1, 1],\n",
    "    [1, -1, 0],\n",
    "    [0, 1, 1]\n",
    "])\n",
    "\n",
    "w0[:, :, 2] = np.array([\n",
    "    [0, 1, -1],\n",
    "    [-1, -1, 0],\n",
    "    [1, 0, 1]\n",
    "])"
   ]
  },
  {
   "cell_type": "code",
   "execution_count": 4,
   "metadata": {
    "collapsed": true
   },
   "outputs": [],
   "source": [
    "w1 = np.zeros_like(w0)\n",
    "\n",
    "w1[:, :, 0] = np.array([\n",
    "    [1, -1, 0],\n",
    "    [1, 0, 1],\n",
    "    [1, 1, -1]\n",
    "])\n",
    "\n",
    "w1[:, :, 1] = np.array([\n",
    "    [-1, -1, -1],\n",
    "    [-1, 1, 1],\n",
    "    [1, 0, -1]\n",
    "])\n",
    "\n",
    "w1[:, :, 2] = np.array([\n",
    "    [0, 0, -1],\n",
    "    [-1, 1, 0],\n",
    "    [0, -1, 1]\n",
    "])"
   ]
  },
  {
   "cell_type": "code",
   "execution_count": 5,
   "metadata": {
    "collapsed": true
   },
   "outputs": [],
   "source": [
    "b0 = np.zeros((1, 1, 1))\n",
    "b0[:, :, 0] = 1\n",
    "\n",
    "b1 = np.zeros((1, 1, 1))\n",
    "b1[:, :, 0] = 0"
   ]
  },
  {
   "cell_type": "code",
   "execution_count": 6,
   "metadata": {},
   "outputs": [
    {
     "name": "stdout",
     "output_type": "stream",
     "text": [
      "Input without padding:\n",
      "\n",
      "[[ 1.  2.  1.  0.  0.]\n",
      " [ 0.  1.  1.  0.  1.]\n",
      " [ 2.  1.  2.  2.  0.]\n",
      " [ 0.  2.  1.  1.  1.]\n",
      " [ 2.  2.  2.  2.  1.]]\n",
      "\n",
      "[[ 2.  1.  0.  2.  2.]\n",
      " [ 0.  2.  0.  0.  0.]\n",
      " [ 0.  2.  1.  2.  2.]\n",
      " [ 2.  2.  2.  1.  2.]\n",
      " [ 2.  1.  2.  2.  2.]]\n",
      "\n",
      "[[ 0.  1.  1.  0.  2.]\n",
      " [ 0.  0.  2.  0.  2.]\n",
      " [ 0.  1.  1.  1.  2.]\n",
      " [ 2.  2.  0.  1.  0.]\n",
      " [ 0.  0.  0.  1.  2.]]\n",
      "Input with padding:\n",
      "\n",
      "[[ 0.  0.  0.  0.  0.  0.  0.]\n",
      " [ 0.  1.  2.  1.  0.  0.  0.]\n",
      " [ 0.  0.  1.  1.  0.  1.  0.]\n",
      " [ 0.  2.  1.  2.  2.  0.  0.]\n",
      " [ 0.  0.  2.  1.  1.  1.  0.]\n",
      " [ 0.  2.  2.  2.  2.  1.  0.]\n",
      " [ 0.  0.  0.  0.  0.  0.  0.]]\n",
      "\n",
      "[[ 0.  0.  0.  0.  0.  0.  0.]\n",
      " [ 0.  2.  1.  0.  2.  2.  0.]\n",
      " [ 0.  0.  2.  0.  0.  0.  0.]\n",
      " [ 0.  0.  2.  1.  2.  2.  0.]\n",
      " [ 0.  2.  2.  2.  1.  2.  0.]\n",
      " [ 0.  2.  1.  2.  2.  2.  0.]\n",
      " [ 0.  0.  0.  0.  0.  0.  0.]]\n",
      "\n",
      "[[ 0.  0.  0.  0.  0.  0.  0.]\n",
      " [ 0.  0.  1.  1.  0.  2.  0.]\n",
      " [ 0.  0.  0.  2.  0.  2.  0.]\n",
      " [ 0.  0.  1.  1.  1.  2.  0.]\n",
      " [ 0.  2.  2.  0.  1.  0.  0.]\n",
      " [ 0.  0.  0.  0.  1.  2.  0.]\n",
      " [ 0.  0.  0.  0.  0.  0.  0.]]\n"
     ]
    }
   ],
   "source": [
    "# padding\n",
    "pad_width = 1\n",
    "X_pad = np.zeros((X.shape[0] + 2 * pad_width, X.shape[1] + 2 * pad_width, X.shape[2]))\n",
    "for i in range(X_pad.shape[2]):\n",
    "    X_pad[:, :, i] = np.pad(X[:, :, i], pad_width, mode = \"constant\", constant_values = 0)\n",
    "    \n",
    "print(\"Input without padding:\\n\\n{}\\n\\n{}\\n\\n{}\".format(X[:, :, 0], X[:, :, 1], X[:, :, 2]))\n",
    "print(\"Input with padding:\\n\\n{}\\n\\n{}\\n\\n{}\".format(X_pad[:, :, 0], X_pad[:, :, 1], X_pad[:, :, 2]))"
   ]
  },
  {
   "cell_type": "code",
   "execution_count": 7,
   "metadata": {},
   "outputs": [
    {
     "name": "stdout",
     "output_type": "stream",
     "text": [
      "Output size: 3.0\n"
     ]
    }
   ],
   "source": [
    "# compute output size\n",
    "\n",
    "# input size\n",
    "W = X.shape[0]\n",
    "\n",
    "# filter size\n",
    "F = w0.shape[0]\n",
    "\n",
    "# pad width\n",
    "P = pad_width\n",
    "\n",
    "# stride step\n",
    "S = 2\n",
    "\n",
    "# compute output size of conv layer\n",
    "print(\"Output size:\", (W - F + 2 * P) / S + 1)"
   ]
  },
  {
   "cell_type": "code",
   "execution_count": 8,
   "metadata": {
    "collapsed": true
   },
   "outputs": [],
   "source": [
    "output = np.zeros((3, 3, 2))\n",
    "\n",
    "for i in range(int((W - F + 2 * P) / 2 + 1)):\n",
    "    for j in range(int((W - F + 2 * P) / 2 + 1)):\n",
    "        # 2 outputs\n",
    "        output[i, j, 0] = np.sum(X_pad[(i*S):(i*S+F), (j*S):(j*S+F), :] * w0) + b0[:, :, 0]\n",
    "        output[i, j, 1] = np.sum(X_pad[(i*S):(i*S+F), (j*S):(j*S+F), :] * w1) + b1[:, :, 0]"
   ]
  },
  {
   "cell_type": "code",
   "execution_count": 9,
   "metadata": {},
   "outputs": [
    {
     "name": "stdout",
     "output_type": "stream",
     "text": [
      "Ouput 1:\n",
      "[[-2. -2.  0.]\n",
      " [ 5.  1.  0.]\n",
      " [-1. -4. -3.]]\n",
      "Ouput 2:\n",
      "[[ 2.  5.  1.]\n",
      " [-3.  6.  5.]\n",
      " [-1.  2.  0.]]\n"
     ]
    }
   ],
   "source": [
    "print(\"Ouput 1:\\n{}\".format(output[:, :, 0]))\n",
    "print(\"Ouput 2:\\n{}\".format(output[:, :, 1]))"
   ]
  }
 ],
 "metadata": {
  "kernelspec": {
   "display_name": "Python 3",
   "language": "python",
   "name": "python3"
  },
  "language_info": {
   "codemirror_mode": {
    "name": "ipython",
    "version": 3
   },
   "file_extension": ".py",
   "mimetype": "text/x-python",
   "name": "python",
   "nbconvert_exporter": "python",
   "pygments_lexer": "ipython3",
   "version": "3.6.3"
  }
 },
 "nbformat": 4,
 "nbformat_minor": 2
}
