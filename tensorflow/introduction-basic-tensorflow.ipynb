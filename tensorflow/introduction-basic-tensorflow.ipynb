{
 "cells": [
  {
   "cell_type": "markdown",
   "metadata": {
    "collapsed": true
   },
   "source": [
    "## Basic introduction to tensorflow - No neural networks\n",
    "\n",
    "For more details: https://www.tensorflow.org/api_guides/python/"
   ]
  },
  {
   "cell_type": "code",
   "execution_count": 1,
   "metadata": {
    "collapsed": true
   },
   "outputs": [],
   "source": [
    "import numpy as np\n",
    "import tensorflow as tf"
   ]
  },
  {
   "cell_type": "markdown",
   "metadata": {},
   "source": [
    "### General procedure of tensorflow usage\n",
    "1. assemble a computation graph\n",
    "2. apply a session to run the operation in that graph\n",
    "\n",
    "Every operation in a computation graph is regarded as a **node**. Edges between two nodes are data flows"
   ]
  },
  {
   "cell_type": "markdown",
   "metadata": {},
   "source": [
    "#### 1. Usage of session\n",
    "\n",
    "Session instance encapsulates the environment in which operations in a graph are executed to compute tensors (code part for computation)\n",
    "\n",
    "* `tf.Session()`\n",
    "* `.run()`"
   ]
  },
  {
   "cell_type": "code",
   "execution_count": 2,
   "metadata": {},
   "outputs": [
    {
     "name": "stdout",
     "output_type": "stream",
     "text": [
      "b'Hello tensorflow'\n"
     ]
    }
   ],
   "source": [
    "# Hello tensorflow\n",
    "string = tf.constant('Hello tensorflow')\n",
    "\n",
    "# recommender way for running session, will close the session \n",
    "with tf.Session() as sess:\n",
    "    print(sess.run(string))"
   ]
  },
  {
   "cell_type": "markdown",
   "metadata": {
    "collapsed": true
   },
   "source": [
    "#### 2. Math operations\n",
    "\n",
    "source: https://www.tensorflow.org/api_guides/python/math_ops\n",
    "\n",
    "* `tf.constant(val, dtype = tf.[dtype], name = 'name')`\n",
    "* `tf.add(a, b, name = 'name')`\n",
    "* ..."
   ]
  },
  {
   "cell_type": "code",
   "execution_count": 3,
   "metadata": {},
   "outputs": [
    {
     "name": "stdout",
     "output_type": "stream",
     "text": [
      "[2333.3301, 666.0, 2999.3301, 1553997.9]\n"
     ]
    }
   ],
   "source": [
    "x = tf.constant(2333.33, dtype = tf.float32, name = 'x')\n",
    "y = tf.constant(666, dtype = tf.float32, name = 'y')\n",
    "\n",
    "add_xy = tf.add(x, y, name = 'add_xy')\n",
    "mul_xy = tf.multiply(x, y, name = 'mul_xy')\n",
    "\n",
    "with tf.Session() as sess:\n",
    "    print(sess.run([x, y, add_xy, mul_xy]))"
   ]
  },
  {
   "cell_type": "markdown",
   "metadata": {
    "collapsed": true
   },
   "source": [
    "#### 3. Variables\n",
    "\n",
    "Values can be updated\n",
    "\n",
    "* `tf.Variable(val, dtype = tf.[dtype])`\n",
    "* `tf.assign_[](val)`\n",
    "\n",
    "NOTE: always **initialize** the variable and run before using it `init = tf.global_variables_initializer()`"
   ]
  },
  {
   "cell_type": "code",
   "execution_count": 4,
   "metadata": {},
   "outputs": [
    {
     "name": "stdout",
     "output_type": "stream",
     "text": [
      "[[ 1.  0.]\n",
      " [ 0.  1.]]\n"
     ]
    }
   ],
   "source": [
    "x = tf.Variable([[0, 0], [0, 0]], dtype = tf.float32)\n",
    "assign_x = x.assign([[1, 0], [0, 1]])\n",
    "\n",
    "init = tf.global_variables_initializer()\n",
    "\n",
    "with tf.Session() as sess:\n",
    "    sess.run(init) # always\n",
    "    print(sess.run(assign_x))"
   ]
  },
  {
   "cell_type": "markdown",
   "metadata": {
    "collapsed": true
   },
   "source": [
    "#### 4. Tensor\n",
    "\n",
    "Tensor is actually **ndarray**: 0-d array is scalar; 1-d array is vector; 2-d array is ...\n",
    "\n",
    "* `tf.zeros(shape = [ , ], dtype = tf.[dtype], name = 'name')`\n",
    "* `tf.ones(shape = [ , ], dtype = tf.[dtype], name = 'name')`\n",
    "* `tf.linspace(start = , stop = , num = , name = 'name')`\n",
    "* `tf.range(start = , limit = 7, delta = , name = 'name')`\n",
    "* `tf.random_normal(shape = [ , ], mean = , stddev = )`"
   ]
  },
  {
   "cell_type": "code",
   "execution_count": 5,
   "metadata": {},
   "outputs": [
    {
     "name": "stdout",
     "output_type": "stream",
     "text": [
      "0 array:\n",
      "[[ 0.  0.  0.]\n",
      " [ 0.  0.  0.]]\n",
      "\n",
      "1 array:\n",
      "[[ 1.  1.  1.]\n",
      " [ 1.  1.  1.]]\n",
      "\n",
      "0 inferred:\n",
      "[[ 0.  0.  0.]\n",
      " [ 0.  0.  0.]]\n",
      "\n",
      "1 inferred:\n",
      "[[ 1.  1.  1.]\n",
      " [ 1.  1.  1.]]\n",
      "\n",
      "linear sequence:\n",
      "[ 0.    1.25  2.5   3.75  5.  ]\n",
      "\n",
      "range:\n",
      "[0 1 2 3 4 5 6]\n",
      "\n",
      "Random normal:\n",
      "[[-0.47109124 -0.09817415  0.77889282]\n",
      " [-0.67207485 -1.74551499 -0.87530226]\n",
      " [ 0.67523015 -0.66725606  0.12565319]]\n",
      "\n"
     ]
    }
   ],
   "source": [
    "zero_array = tf.zeros(shape=[2,3], dtype=tf.float32, name = 'zero_array')\n",
    "one_array = tf.ones(shape=[2,3], dtype=tf.float32, name = 'one_array')\n",
    "\n",
    "template = tf.constant([[1,2,3],[4,5,6]], dtype = tf.float32, name = 'template') # Has [2,3] shape\n",
    "zero_like = tf.zeros_like(template, name = 'zero_like')\n",
    "one_like = tf.ones_like(template, name = 'one_like')\n",
    "\n",
    "lin_seq = tf.linspace(start = 0.0, stop = 5.0, num = 5, name = 'lin_seq')\n",
    "lin_range = tf.range(start = 0, limit = 7, delta = 1, name = 'lin_range')\n",
    "\n",
    "norm_rnd = tf.random_normal(shape=[3, 3], mean = 0.0, stddev = 1.0)\n",
    "\n",
    "with tf.Session() as sess:\n",
    "    print('0 array:\\n{}\\n'.format(sess.run(zero_array)))\n",
    "    print('1 array:\\n{}\\n'.format(sess.run(one_array)))\n",
    "    print('0 inferred:\\n{}\\n'.format(sess.run(zero_like)))\n",
    "    print('1 inferred:\\n{}\\n'.format(sess.run(one_like)))\n",
    "    print('linear sequence:\\n{}\\n'.format(sess.run(lin_seq)))\n",
    "    print('range:\\n{}\\n'.format(sess.run(lin_range)))\n",
    "    print('Random normal:\\n{}\\n'.format(sess.run(norm_rnd)))"
   ]
  },
  {
   "cell_type": "markdown",
   "metadata": {},
   "source": [
    "#### 5. Placeholder\n",
    "\n",
    "Recommended way to feed data into network\n",
    "\n",
    "* `x = tf.placeholder(shape = [ , ], dtype = tf.[dtype])`\n",
    "* `.run(x, feed_dict = {x: feed_x})`"
   ]
  },
  {
   "cell_type": "code",
   "execution_count": 6,
   "metadata": {},
   "outputs": [
    {
     "name": "stdout",
     "output_type": "stream",
     "text": [
      "[[ 1.74542654  1.74542654  1.74542654]\n",
      " [-0.50518501 -0.50518501 -0.50518501]\n",
      " [-1.17954302 -1.17954302 -1.17954302]]\n"
     ]
    }
   ],
   "source": [
    "x_placeholder = tf.placeholder(shape = [3, 3], dtype = tf.float32)\n",
    "tensor_rnd = tf.Variable(tf.random_normal(shape = [3, 1], mean = 0, stddev = 1, name = 'tensor_rnd'), dtype = tf.float32)\n",
    "x_placeholder_mul = np.dot(x_placeholder, tensor_rnd)\n",
    "\n",
    "init = tf.global_variables_initializer() # DO NOT FORGET INITILIZATION\n",
    "feed_x = np.ones((3, 3))\n",
    "\n",
    "with tf.Session() as mySess:\n",
    "    mySess.run(init)\n",
    "    print(mySess.run(x_placeholder_mul, feed_dict = {x_placeholder: feed_x}))"
   ]
  },
  {
   "cell_type": "markdown",
   "metadata": {},
   "source": [
    "#### 6. Indexing\n",
    "\n",
    "* `indices = tf.to_int64([ , ])`\n",
    "* `tf.gather_nd(X, indices)`"
   ]
  },
  {
   "cell_type": "code",
   "execution_count": 7,
   "metadata": {},
   "outputs": [
    {
     "name": "stdout",
     "output_type": "stream",
     "text": [
      "X:\n",
      "[[  1.   2.   3.   4.   5.]\n",
      " [  6.   7.   8.   9.  10.]\n",
      " [ 11.  12.  13.  14.  15.]]\n",
      "\n",
      "X[1, 1]:\n",
      "[ 1.]\n",
      "\n",
      "X[3, :]:\n",
      "[ 11.  12.  13.  14.  15.]\n",
      "\n",
      "X[:, 4]:\n",
      "[  4.   9.  14.]\n",
      "\n"
     ]
    }
   ],
   "source": [
    "X = tf.constant([[1, 2, 3, 4, 5], [6, 7, 8, 9, 10], [11, 12, 13, 14, 15]], dtype = tf.float32, name = 'X')\n",
    "element_indices = [[0, 0]]\n",
    "row_indices = [2]\n",
    "col_indices = [3]\n",
    "\n",
    "X_element = tf.gather_nd(X, element_indices)\n",
    "X_row = tf.gather_nd(X, row_indices)\n",
    "X_col = tf.gather_nd(tf.transpose(X), col_indices)\n",
    "\n",
    "with tf.Session() as sess:\n",
    "    print('X:\\n{}\\n'.format(sess.run(X)))\n",
    "    print('X[1, 1]:\\n{}\\n'.format(sess.run(X_element)))\n",
    "    print('X[3, :]:\\n{}\\n'.format(sess.run(X_row)))\n",
    "    print('X[:, 4]:\\n{}\\n'.format(sess.run(X_col)))\n",
    "    "
   ]
  }
 ],
 "metadata": {
  "kernelspec": {
   "display_name": "Python 3",
   "language": "python",
   "name": "python3"
  },
  "language_info": {
   "codemirror_mode": {
    "name": "ipython",
    "version": 3
   },
   "file_extension": ".py",
   "mimetype": "text/x-python",
   "name": "python",
   "nbconvert_exporter": "python",
   "pygments_lexer": "ipython3",
   "version": "3.6.2"
  }
 },
 "nbformat": 4,
 "nbformat_minor": 2
}
