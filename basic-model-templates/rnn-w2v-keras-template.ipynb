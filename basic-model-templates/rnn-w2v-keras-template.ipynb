{
 "cells": [
  {
   "cell_type": "markdown",
   "metadata": {
    "_cell_guid": "79c7e3d0-c299-4dcb-8224-4455121ee9b0",
    "_uuid": "d629ff2d2480ee46fbb7e2d37f6b5fab8052498a",
    "collapsed": true
   },
   "source": [
    "### RNN Model (with pretrained Word2Vec) Template (keras)\n",
    "\n",
    "Use Quora Insincere Questions Classification competition data and pretrain Word2Vec (GloVe), build a RNN for text classification"
   ]
  },
  {
   "cell_type": "code",
   "execution_count": 1,
   "metadata": {
    "_uuid": "dd440c6f8513571b8a92f371787651abd10e4dbe"
   },
   "outputs": [
    {
     "name": "stderr",
     "output_type": "stream",
     "text": [
      "Using TensorFlow backend.\n"
     ]
    }
   ],
   "source": [
    "import os\n",
    "import gc\n",
    "import numpy as np\n",
    "import pandas as pd\n",
    "import matplotlib.pyplot as plt\n",
    "\n",
    "from abc import ABC, abstractmethod\n",
    "\n",
    "from keras.models import Model, load_model\n",
    "from keras.layers import Input, Dense, Embedding, CuDNNGRU, CuDNNLSTM\n",
    "from keras.layers import GlobalMaxPooling1D, Conv1D, Dropout\n",
    "from keras import optimizers\n",
    "from keras.callbacks import Callback, ModelCheckpoint, EarlyStopping\n",
    "from keras.preprocessing import text, sequence\n",
    "from sklearn.model_selection import train_test_split\n",
    "\n",
    "%matplotlib inline\n",
    "plt.style.use('ggplot')"
   ]
  },
  {
   "cell_type": "code",
   "execution_count": 2,
   "metadata": {
    "_uuid": "fab98c8b04a4d73d3a8161412eea53ec27c09378"
   },
   "outputs": [
    {
     "name": "stdout",
     "output_type": "stream",
     "text": [
      "(914285,) (391837,) (914285,) (391837,)\n"
     ]
    }
   ],
   "source": [
    "train = pd.read_csv('../input/train.csv')\n",
    "X, y = train['question_text'].values, train['target'].values\n",
    "X_train, X_val, y_train, y_val = train_test_split(X, y, shuffle=True, test_size=0.3, random_state=2019)\n",
    "print(X_train.shape, X_val.shape, y_train.shape, y_val.shape)"
   ]
  },
  {
   "cell_type": "code",
   "execution_count": 3,
   "metadata": {
    "_uuid": "e2a0f6dc20bd8404b9b9121c80f6a011276c031c"
   },
   "outputs": [
    {
     "data": {
      "image/png": "[encoded data removed]",
      "text/plain": [
       "<Figure size 432x288 with 1 Axes>"
      ]
     },
     "metadata": {},
     "output_type": "display_data"
    }
   ],
   "source": [
    "X_train_len = np.array([len(x) for x in X_train])\n",
    "_, _, _ = plt.hist(X_train_len, bins=80)\n",
    "_ = plt.title('Distribution of text length')"
   ]
  },
  {
   "cell_type": "code",
   "execution_count": 4,
   "metadata": {
    "_uuid": "c562107155cc3cd8d43607a501a736bcb8c864fc"
   },
   "outputs": [],
   "source": [
    "embedding_filepath = '../input/embeddings/glove.840B.300d/glove.840B.300d.txt'\n",
    "\n",
    "def preprocessing(X_train, X_test, **kwargs):\n",
    "    \"\"\"\n",
    "    Preprocessing for text data\n",
    "    raw text -> tokenization -> raw sequence -> equal length sequence\n",
    "    \"\"\"\n",
    "    max_features = kwargs['max_features']\n",
    "    max_len = kwargs['max_len']\n",
    "    tokenizer = text.Tokenizer(num_words=max_features, lower=True, split=' ',\n",
    "                               filters='!\"#$%&()*+,-./:;<=>?@[\\\\]^_`{|}~\\t\\n',\n",
    "                               char_level=False, oov_token=None, document_count=0)\n",
    "    tokenizer.fit_on_texts(list(X_train) + list(X_test))\n",
    "    # convert text to sequence\n",
    "    X_train_seq = tokenizer.texts_to_sequences(X_train)\n",
    "    X_test_seq = tokenizer.texts_to_sequences(X_test)\n",
    "    # truncate and padding\n",
    "    X_train_seq_pad = sequence.pad_sequences(X_train_seq, maxlen=max_len)\n",
    "    X_test_seq_pad = sequence.pad_sequences(X_test_seq, maxlen=max_len)\n",
    "    \n",
    "    return X_train_seq, X_test_seq, X_train_seq_pad, X_test_seq_pad, tokenizer\n",
    "\n",
    "def load_embeddings(embedding_filepath, **kwargs):\n",
    "    \"\"\"\n",
    "    Load pretrained word embeddings (GloVe)\n",
    "    \n",
    "    :return: np.array, embeddings_matrix with shape (num_words, embeddings_size)\n",
    "    \"\"\"\n",
    "    embedding_size = kwargs['embeddings_size']\n",
    "    tokenizer = kwargs['tokenizer']\n",
    "    max_features = kwargs['max_features']\n",
    "    \n",
    "    def get_coefs(word, *arr):\n",
    "        return word, np.asarray(arr, dtype='float32')\n",
    "    \n",
    "    embeddings_index = dict(get_coefs(*o.strip().rsplit(' ')) for o in open(embedding_filepath))\n",
    "    word_index = tokenizer.word_index\n",
    "    num_words = min(max_features, len(word_index))\n",
    "    embeddings_matrix = np.zeros((num_words, embedding_size))\n",
    "    for word, i in word_index.items():\n",
    "        if i >= max_features:\n",
    "            continue\n",
    "        embeddings_vector = embeddings_index.get(word)\n",
    "        # oov or not\n",
    "        if embeddings_vector is not None:\n",
    "            embeddings_matrix[i] = embeddings_vector\n",
    "    \n",
    "    return embeddings_matrix"
   ]
  },
  {
   "cell_type": "code",
   "execution_count": 5,
   "metadata": {
    "_uuid": "6af4ed27cc33238ef93299be98f973ea9068590e"
   },
   "outputs": [
    {
     "name": "stdout",
     "output_type": "stream",
     "text": [
      "First 3 sentences length:\n",
      "\n",
      "11\n",
      "10\n",
      "23\n",
      "\n",
      "\n",
      "\n",
      "sentence sequence example:\n",
      "\n",
      "['What are the pros and cons of living in Jakarta?'\n",
      " 'Why is there no outrage over hanging of a BJP worker in West Bengal? What about the note they found with the body?']\n"
     ]
    }
   ],
   "source": [
    "print('First 3 sentences length:\\n')\n",
    "for i in range(3):\n",
    "    print(len(X_train[i].split()))\n",
    "    \n",
    "print('\\n\\n')\n",
    "print('sentence sequence example:\\n')\n",
    "print(X_train[1:3])"
   ]
  },
  {
   "cell_type": "code",
   "execution_count": 6,
   "metadata": {
    "_uuid": "7b46b01056ab7c962389e98b6221918eaefd449b"
   },
   "outputs": [],
   "source": [
    "X_train_seq, X_val_seq, X_train_seq_pad, X_val_seq_pad, tokenizer = \\\n",
    "        preprocessing(X_train, X_val, max_features=200000, max_len=70)"
   ]
  },
  {
   "cell_type": "code",
   "execution_count": 7,
   "metadata": {
    "_uuid": "cfe211bbc16eddd7956fff46aa729a6d80d34a37"
   },
   "outputs": [
    {
     "name": "stdout",
     "output_type": "stream",
     "text": [
      "After preprocessing, first 3 sentences length:\n",
      "\n",
      "11\n",
      "10\n",
      "23\n",
      "\n",
      "\n",
      "\n",
      "After preprocessing, sentence sequence example\n",
      "\n",
      "[[16, 3, 39, 105, 11303, 136, 5283, 7, 4, 1123, 3479, 6, 861, 2586, 2, 45, 1, 1818, 47, 436, 21, 1, 293], [16, 11, 951, 2694, 99430, 129, 62]]\n",
      "\n",
      "\n",
      "\n",
      "After preprocessing, first 3 sentences length after padding:\n",
      "\n",
      "70\n",
      "70\n",
      "70\n",
      "\n",
      "\n",
      "\n",
      "After preprocessing, sentence sequence example after padding\n",
      "\n",
      "[[    0     0     0     0     0     0     0     0     0     0     0     0\n",
      "      0     0     0     0     0     0     0     0     0     0     0     0\n",
      "      0     0     0     0     0     0     0     0     0     0     0     0\n",
      "      0     0     0     0     0     0     0     0     0     0     0    16\n",
      "      3    39   105 11303   136  5283     7     4  1123  3479     6   861\n",
      "   2586     2    45     1  1818    47   436    21     1   293]\n",
      " [    0     0     0     0     0     0     0     0     0     0     0     0\n",
      "      0     0     0     0     0     0     0     0     0     0     0     0\n",
      "      0     0     0     0     0     0     0     0     0     0     0     0\n",
      "      0     0     0     0     0     0     0     0     0     0     0     0\n",
      "      0     0     0     0     0     0     0     0     0     0     0     0\n",
      "      0     0     0    16    11   951  2694 99430   129    62]]\n"
     ]
    }
   ],
   "source": [
    "print('After preprocessing, first 3 sentences length:\\n')\n",
    "for i in range(3):\n",
    "    print(len(X_train_seq[i]))\n",
    "print('\\n\\n')\n",
    "print('After preprocessing, sentence sequence example\\n')\n",
    "print(X_train_seq[2:4])\n",
    "\n",
    "print('\\n\\n')\n",
    "\n",
    "print('After preprocessing, first 3 sentences length after padding:\\n')\n",
    "for i in range(3):\n",
    "    print(len(X_train_seq_pad[i]))\n",
    "print('\\n\\n')\n",
    "print('After preprocessing, sentence sequence example after padding\\n')\n",
    "print(X_train_seq_pad[2:4])"
   ]
  },
  {
   "cell_type": "code",
   "execution_count": 8,
   "metadata": {
    "_uuid": "f00e4029963c128c3d61252317f14d747dbcf3f4"
   },
   "outputs": [
    {
     "name": "stdout",
     "output_type": "stream",
     "text": [
      "(200000, 300)\n"
     ]
    }
   ],
   "source": [
    "embeddings_lookup_matrix = load_embeddings(embedding_filepath,\n",
    "                                           embeddings_size=300,\n",
    "                                           max_features=200000,\n",
    "                                           tokenizer=tokenizer)\n",
    "print(embeddings_lookup_matrix.shape)"
   ]
  },
  {
   "cell_type": "code",
   "execution_count": 9,
   "metadata": {
    "_uuid": "28bd65fbd44ed59958bca809e3ffaa125cf3789b"
   },
   "outputs": [],
   "source": [
    "def make_model(model_params):\n",
    "    \"\"\"\n",
    "    Template for build NN (RNN - GRU/LSTM) model (keras)\n",
    "    \n",
    "    :param model_params: dict, include\n",
    "                               - input_size: tuple for input shape\n",
    "                               - output_size: number of output units\n",
    "                               - max_features: number of words used\n",
    "                               - embedding_size: length of word vector\n",
    "                               - embeddings_matrix: embeddings lookup matrix\n",
    "                               - drop_rate: dropout rate\n",
    "                               - loss: loss function\n",
    "                               - optimizer: optimization method\n",
    "                               - metrics: list of metrics\n",
    "\n",
    "    :return: keras model\n",
    "    \"\"\"\n",
    "    input_size = model_params['input_size']\n",
    "    output_size = model_params['output_size']\n",
    "    max_features = model_params['max_features']\n",
    "    embeddings_size = model_params['embeddings_size']\n",
    "    embeddings_matrix = model_params['embeddings_matrix']\n",
    "    drop_rate = model_params['drop_rate']\n",
    "    loss = model_params['loss']\n",
    "    optimizer = model_params['optimizer']\n",
    "    metrics = model_params['metrics']\n",
    "    \n",
    "    inp = Input(shape=input_size)\n",
    "    x = inp\n",
    "    x = Embedding(input_dim=max_features,\n",
    "                  output_dim=embeddings_size,\n",
    "                  trainable=False,\n",
    "                  weights=[embeddings_matrix])(x)\n",
    "    x = CuDNNLSTM(units=60,\n",
    "                  return_sequences=True)(x)\n",
    "    x = Conv1D(filters=32,\n",
    "               kernel_size=3,\n",
    "               padding='valid')(x)\n",
    "    x = GlobalMaxPooling1D()(x)\n",
    "    x = Dense(units=64, activation='relu')(x)\n",
    "    x = Dropout(rate=drop_rate)(x)\n",
    "    x = Dense(units=output_size, activation='sigmoid')(x)\n",
    "    \n",
    "    model = Model(inputs=[inp], outputs=x)\n",
    "    model.compile(loss=loss, optimizer=optimizer, metrics=metrics)\n",
    "    \n",
    "    return model"
   ]
  },
  {
   "cell_type": "code",
   "execution_count": 10,
   "metadata": {
    "_uuid": "7774bec2b4b36b91dbaee9324d5cb18799ec983f"
   },
   "outputs": [],
   "source": [
    "class BasicNN(ABC):\n",
    "    @abstractmethod\n",
    "    def initialize(self):\n",
    "        pass\n",
    "    \n",
    "    @abstractmethod\n",
    "    def fit(self):\n",
    "        pass\n",
    "    \n",
    "    @abstractmethod\n",
    "    def predict(self):\n",
    "        pass\n",
    "    \n",
    "    @abstractmethod\n",
    "    def save(self):\n",
    "        pass\n",
    "    \n",
    "class BasicRNN(BasicNN):\n",
    "    \"\"\" Basic RNN model (keras) \"\"\"\n",
    "    def __init__(self, model_params):\n",
    "        self.model_params = model_params\n",
    "    \n",
    "    def initialize(self):\n",
    "        \"\"\" Initialize model \"\"\"\n",
    "        model = make_model(self.model_params)\n",
    "        print('Model Summary:')\n",
    "        print(model.summary())\n",
    "        self._model = model\n",
    "    \n",
    "    def fit(self, X_train, y_train, X_val, y_val):\n",
    "        assert self._model is not None\n",
    "        self.train_params = self.model_params['train_params']\n",
    "        self.patience = self.train_params['patience']\n",
    "        self.nb_epochs = self.train_params['nb_epochs']\n",
    "        self.batch_size = self.train_params['batch_size']\n",
    "        self.filepath = self.model_params['filepath']\n",
    "        earlystopping = EarlyStopping(monitor='val_loss',\n",
    "                                      patience=self.patience,\n",
    "                                      mode='min')\n",
    "        checkpointer = ModelCheckpoint(filepath=self.filepath, save_best_only=True)\n",
    "        history = self._model.fit(X_train, y_train,\n",
    "                                  epochs=self.nb_epochs,\n",
    "                                  batch_size=self.batch_size,\n",
    "                                  validation_data=(X_val, y_val),\n",
    "                                  callbacks=[earlystopping, checkpointer]).history\n",
    "        return self._model\n",
    "    \n",
    "    def predict(self, X):\n",
    "        try:\n",
    "            if self.saved_model_destination is None:\n",
    "                return self._model.predict(X)\n",
    "            else:\n",
    "                loaded_model = load_model(self.saved_model_destination)\n",
    "                return loaded_model.predict(X)\n",
    "        except AttributeError:\n",
    "            raise AttributeError(\"Model not saved, try .save() first.\")\n",
    "            \n",
    "    def save(self, saved_model_destination):\n",
    "        assert self._model is not None\n",
    "        self.saved_model_destination = saved_model_destination\n",
    "        self._model.save(self.saved_model_destination)"
   ]
  },
  {
   "cell_type": "code",
   "execution_count": 11,
   "metadata": {
    "_uuid": "b1d6090caff969cb1ca1699ba5829d709af2e9b8"
   },
   "outputs": [],
   "source": [
    "model_params = {\n",
    "    'input_size'  : (70, ), # = max_len\n",
    "    'output_size' : 1,\n",
    "    'train_params': {'batch_size': 512,\n",
    "                     'patience'  : 2,\n",
    "                     'nb_epochs' : 4},\n",
    "    'max_features': 200000,\n",
    "    'embeddings_size': 300,\n",
    "    'embeddings_matrix': embeddings_lookup_matrix,\n",
    "    'drop_rate': 0.1,\n",
    "    'loss'     : 'binary_crossentropy',\n",
    "    'optimizer': optimizers.Adam(),\n",
    "    'metrics'  : ['accuracy'],\n",
    "    'filepath' : './model.h5'\n",
    "}"
   ]
  },
  {
   "cell_type": "code",
   "execution_count": 12,
   "metadata": {
    "_uuid": "ea648d01590d56030684fbbb7afa20e1bccf52f4"
   },
   "outputs": [
    {
     "name": "stdout",
     "output_type": "stream",
     "text": [
      "Model Summary:\n",
      "_________________________________________________________________\n",
      "Layer (type)                 Output Shape              Param #   \n",
      "=================================================================\n",
      "input_1 (InputLayer)         (None, 70)                0         \n",
      "_________________________________________________________________\n",
      "embedding_1 (Embedding)      (None, 70, 300)           60000000  \n",
      "_________________________________________________________________\n",
      "cu_dnnlstm_1 (CuDNNLSTM)     (None, 70, 60)            86880     \n",
      "_________________________________________________________________\n",
      "conv1d_1 (Conv1D)            (None, 68, 32)            5792      \n",
      "_________________________________________________________________\n",
      "global_max_pooling1d_1 (Glob (None, 32)                0         \n",
      "_________________________________________________________________\n",
      "dense_1 (Dense)              (None, 64)                2112      \n",
      "_________________________________________________________________\n",
      "dropout_1 (Dropout)          (None, 64)                0         \n",
      "_________________________________________________________________\n",
      "dense_2 (Dense)              (None, 1)                 65        \n",
      "=================================================================\n",
      "Total params: 60,094,849\n",
      "Trainable params: 94,849\n",
      "Non-trainable params: 60,000,000\n",
      "_________________________________________________________________\n",
      "None\n",
      "Train on 914285 samples, validate on 391837 samples\n",
      "Epoch 1/4\n",
      "914285/914285 [==============================] - 25s 27us/step - loss: 0.1212 - acc: 0.9536 - val_loss: 0.1090 - val_acc: 0.9566\n",
      "Epoch 2/4\n",
      "914285/914285 [==============================] - 24s 26us/step - loss: 0.1044 - acc: 0.9585 - val_loss: 0.1047 - val_acc: 0.9582\n",
      "Epoch 3/4\n",
      "914285/914285 [==============================] - 23s 25us/step - loss: 0.0991 - acc: 0.9605 - val_loss: 0.1029 - val_acc: 0.9587\n",
      "Epoch 4/4\n",
      "914285/914285 [==============================] - 23s 25us/step - loss: 0.0949 - acc: 0.9620 - val_loss: 0.1024 - val_acc: 0.9589\n"
     ]
    }
   ],
   "source": [
    "basic_rnn = BasicRNN(model_params)\n",
    "basic_rnn.initialize()\n",
    "_ = basic_rnn.fit(X_train_seq_pad, y_train, X_val_seq_pad, y_val)\n",
    "basic_rnn.save('./basic_rnn.h5')"
   ]
  },
  {
   "cell_type": "markdown",
   "metadata": {
    "_uuid": "1c67ea18532fdf890189eac0338fbcde69800f77"
   },
   "source": [
    "#### Model Structure Overview\n",
    "- Layer 1: embedding layer. Number of parameters = 200000 x 300 = 60000000\n",
    "- Layer 2: LSTM layer. Number of parameters = ((300 + 60 + 1) x 60) x 4 = 86640 (QUESTIONABLE)\n",
    "- Layer 3: 1D conv filters (32). Number of parameters = 3 x 60 x 32 + 32 = 5792\n",
    "- Layer 4: fully connected layer + dropout.\n",
    "- Layer 5: sigmoid layer."
   ]
  }
 ],
 "metadata": {
  "kernelspec": {
   "display_name": "Python 3",
   "language": "python",
   "name": "python3"
  },
  "language_info": {
   "codemirror_mode": {
    "name": "ipython",
    "version": 3
   },
   "file_extension": ".py",
   "mimetype": "text/x-python",
   "name": "python",
   "nbconvert_exporter": "python",
   "pygments_lexer": "ipython3",
   "version": "3.6.6"
  }
 },
 "nbformat": 4,
 "nbformat_minor": 1
}
